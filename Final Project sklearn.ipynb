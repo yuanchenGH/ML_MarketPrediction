{
 "cells": [
  {
   "cell_type": "code",
   "execution_count": 18,
   "metadata": {
    "scrolled": false
   },
   "outputs": [],
   "source": [
    "#setup data\n",
    "import csv\n",
    "import pandas as pd\n",
    "import numpy as np\n",
    "\n",
    "#define risk free rate(rfr) as the three month treasure yield (DGS3MO)\n",
    "rfr = np.array((5244,1))\n",
    "#define term spread as 10 year treasure interest(DGS10) minus 1 year treasure interest(DGS1)\n",
    "ts = np.array((5244,1))\n",
    "#define default spread as the yield gap between AAA(DAAA) and BBB(DBAA) grade bonds\n",
    "ds = np.array((5244,1))\n",
    "ones = np.ones((5244,1))[:,0]\n",
    "\n",
    "data1 = pd.read_csv('spread.csv')\n",
    "data2 = pd.read_csv('StockMarket.csv')\n",
    "data = pd.merge(data1, data2, on='Date')\n",
    "rfr = data['DGS3MO']\n",
    "ds = data['DGS10'] - data['DGS1']\n",
    "ts = data['DAAA'] - data['DBAA']\n",
    "# print(rfr.shape)\n",
    "# print(ds.shape)\n",
    "# print(ts.shape)\n",
    "# print(ones.shape)\n",
    "A = np.stack((rfr, ds, ts, ones), axis = 1)\n",
    "#delete the last data since there is no label for the next day\n",
    "A = np.delete(A, 5243, 0)\n",
    "# print(data)\n",
    "\n",
    "#the yield of three major index: Dow Jones, SP 500 and Nasdaq\n",
    "B_raw = np.stack((data['DJIA'], data['SP500'], data['NASDAQ']), axis = 1)\n",
    "#Labeled as -1 if the market loss the next day, +1 otherwise \n",
    "B = np.zeros((5244, 3))\n",
    "for i in range(5244):\n",
    "    for j in range(3):\n",
    "        B[i][j] = -1 if B_raw[i][j] < 0 else 1\n",
    "\n",
    "#delete first label since there is no previous day data to predict\n",
    "B= np.delete(B, 0, 0)"
   ]
  },
  {
   "cell_type": "code",
   "execution_count": 36,
   "metadata": {},
   "outputs": [
    {
     "name": "stdout",
     "output_type": "stream",
     "text": [
      "0.5262154432793136\n",
      "0.5262154432793136\n"
     ]
    }
   ],
   "source": [
    "from sklearn.model_selection import train_test_split\n",
    "from sklearn import datasets\n",
    "from sklearn import svm\n",
    "\n",
    "X = A\n",
    "y = B[:,0]\n",
    "X.shape, y.shape\n",
    "\n",
    "X_train, X_test, y_train, y_test = train_test_split(X, y, test_size=0.2, random_state=0)\n",
    "\n",
    "clf1 = svm.LinearSVC(penalty='l2', loss='hinge', tol=0.0001, C=1.0, max_iter=10000).fit(X_train, y_train)\n",
    "print(clf1.score(X_test, y_test))\n",
    "clf2 = svm.LinearSVC(penalty='l2', loss='hinge', tol=0.0001, C=0.00001, max_iter=10000).fit(X_train, y_train)\n",
    "print(clf2.score(X_test, y_test))"
   ]
  },
  {
   "cell_type": "code",
   "execution_count": 32,
   "metadata": {
    "scrolled": false
   },
   "outputs": [
    {
     "name": "stdout",
     "output_type": "stream",
     "text": [
      "0.5257142857142857\n"
     ]
    }
   ],
   "source": [
    "clf3 = svm.SVC(C=1.0, kernel='linear', tol=0.001, max_iter=1000000).fit(X_train, y_train)\n",
    "print(clf3.score(X_test, y_test))"
   ]
  },
  {
   "cell_type": "code",
   "execution_count": null,
   "metadata": {},
   "outputs": [],
   "source": []
  }
 ],
 "metadata": {
  "kernelspec": {
   "display_name": "Python 3",
   "language": "python",
   "name": "python3"
  },
  "language_info": {
   "codemirror_mode": {
    "name": "ipython",
    "version": 3
   },
   "file_extension": ".py",
   "mimetype": "text/x-python",
   "name": "python",
   "nbconvert_exporter": "python",
   "pygments_lexer": "ipython3",
   "version": "3.7.1"
  }
 },
 "nbformat": 4,
 "nbformat_minor": 2
}
